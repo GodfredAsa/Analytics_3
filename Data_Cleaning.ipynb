{
 "cells": [
  {
   "cell_type": "markdown",
   "metadata": {},
   "source": [
    "# Project 4: Merging & Cleaning & Transforming Data (Movies Dataset)"
   ]
  },
  {
   "cell_type": "markdown",
   "metadata": {},
   "source": [
    "# Project Brief for Self-Coders"
   ]
  },
  {
   "cell_type": "markdown",
   "metadata": {},
   "source": [
    "Here you´ll have the opportunity to code major parts of Project 4 on your own. If you need any help or inspiration, have a look at the Videos or the Jupyter Notebook with the full code. <br> <br>\n",
    "Keep in mind that it´s all about __getting the right results/conclusions__. It´s not about finding the identical code. Things can be coded in many different ways. Even if you come to the same conclusions, it´s very unlikely that we have the very same code. "
   ]
  },
  {
   "cell_type": "markdown",
   "metadata": {},
   "source": [
    "## Introduction / Getting the Datasets"
   ]
  },
  {
   "cell_type": "markdown",
   "metadata": {},
   "source": [
    "1. __Load__ and __inspect__ the datasets \"movies_clean.csv\" and \"credits.csv\". __Identify__ stringified/nested __json columns__ in the __credits__ dataset."
   ]
  },
  {
   "cell_type": "code",
   "execution_count": 2,
   "metadata": {},
   "outputs": [],
   "source": [
    "import pandas as pd\n",
    "import numpy as np\n",
    "import ast\n"
   ]
  },
  {
   "cell_type": "code",
   "execution_count": 3,
   "metadata": {},
   "outputs": [],
   "source": [
    "movies_df= pd.read_csv(\"movies_clean.csv\",  low_memory=False)\n",
    "credit_df = pd.read_csv(\"credits.csv\",  low_memory=False)"
   ]
  },
  {
   "cell_type": "markdown",
   "metadata": {},
   "source": [
    "### Inspecting dataframes "
   ]
  },
  {
   "cell_type": "code",
   "execution_count": 4,
   "metadata": {},
   "outputs": [
    {
     "name": "stdout",
     "output_type": "stream",
     "text": [
      "<class 'pandas.core.frame.DataFrame'>\n",
      "RangeIndex: 44691 entries, 0 to 44690\n",
      "Data columns (total 18 columns):\n",
      "id                       44691 non-null int64\n",
      "title                    44691 non-null object\n",
      "tagline                  20284 non-null object\n",
      "release_date             44657 non-null object\n",
      "genres                   42586 non-null object\n",
      "belongs_to_collection    4463 non-null object\n",
      "original_language        44681 non-null object\n",
      "budget_musd              8854 non-null float64\n",
      "revenue_musd             7385 non-null float64\n",
      "production_companies     33356 non-null object\n",
      "production_countries     38835 non-null object\n",
      "vote_count               44691 non-null float64\n",
      "vote_average             42077 non-null float64\n",
      "popularity               44691 non-null float64\n",
      "runtime                  43179 non-null float64\n",
      "overview                 43740 non-null object\n",
      "spoken_languages         41094 non-null object\n",
      "poster_path              44467 non-null object\n",
      "dtypes: float64(6), int64(1), object(11)\n",
      "memory usage: 6.1+ MB\n"
     ]
    }
   ],
   "source": [
    "movies_df.info()"
   ]
  },
  {
   "cell_type": "code",
   "execution_count": 5,
   "metadata": {},
   "outputs": [
    {
     "name": "stdout",
     "output_type": "stream",
     "text": [
      "<class 'pandas.core.frame.DataFrame'>\n",
      "RangeIndex: 45476 entries, 0 to 45475\n",
      "Data columns (total 3 columns):\n",
      "cast    45476 non-null object\n",
      "crew    45476 non-null object\n",
      "id      45476 non-null int64\n",
      "dtypes: int64(1), object(2)\n",
      "memory usage: 1.0+ MB\n"
     ]
    }
   ],
   "source": [
    "credit_df.info()"
   ]
  },
  {
   "cell_type": "code",
   "execution_count": 6,
   "metadata": {},
   "outputs": [],
   "source": [
    "#credit_df.crew[0]"
   ]
  },
  {
   "cell_type": "code",
   "execution_count": null,
   "metadata": {},
   "outputs": [],
   "source": []
  },
  {
   "cell_type": "markdown",
   "metadata": {},
   "source": [
    "## Preparing the Data for Merge"
   ]
  },
  {
   "cell_type": "markdown",
   "metadata": {},
   "source": [
    "2. __Drop Duplicates__ in the credits datasets. (similar to Project 3)"
   ]
  },
  {
   "cell_type": "code",
   "execution_count": 7,
   "metadata": {},
   "outputs": [],
   "source": [
    " credit_df.drop_duplicates(subset = 'id', inplace = True)"
   ]
  },
  {
   "cell_type": "markdown",
   "metadata": {},
   "source": [
    "### checking if there are duplicates "
   ]
  },
  {
   "cell_type": "code",
   "execution_count": 8,
   "metadata": {},
   "outputs": [],
   "source": [
    "#credit_df['id'].value_counts()"
   ]
  },
  {
   "cell_type": "code",
   "execution_count": null,
   "metadata": {},
   "outputs": [],
   "source": []
  },
  {
   "cell_type": "markdown",
   "metadata": {},
   "source": [
    "## Merging the Data"
   ]
  },
  {
   "cell_type": "markdown",
   "metadata": {},
   "source": [
    "3. __Merge/Join__ the datasets movies_clean and credits. -> Add the features __cast__ and __crew__ to the movies_clean dataset."
   ]
  },
  {
   "cell_type": "markdown",
   "metadata": {},
   "source": [
    "<h3> Performing a Joint operation"
   ]
  },
  {
   "cell_type": "code",
   "execution_count": 9,
   "metadata": {},
   "outputs": [],
   "source": [
    "df = movies_df.merge(credit_df, how = 'left', \n",
    "                     left_on = 'id', right_on = 'id')"
   ]
  },
  {
   "cell_type": "markdown",
   "metadata": {},
   "source": [
    "<h3> Inspecting the joint dataframe"
   ]
  },
  {
   "cell_type": "code",
   "execution_count": 10,
   "metadata": {},
   "outputs": [
    {
     "data": {
      "text/html": [
       "<div>\n",
       "<style scoped>\n",
       "    .dataframe tbody tr th:only-of-type {\n",
       "        vertical-align: middle;\n",
       "    }\n",
       "\n",
       "    .dataframe tbody tr th {\n",
       "        vertical-align: top;\n",
       "    }\n",
       "\n",
       "    .dataframe thead th {\n",
       "        text-align: right;\n",
       "    }\n",
       "</style>\n",
       "<table border=\"1\" class=\"dataframe\">\n",
       "  <thead>\n",
       "    <tr style=\"text-align: right;\">\n",
       "      <th></th>\n",
       "      <th>id</th>\n",
       "      <th>title</th>\n",
       "      <th>tagline</th>\n",
       "      <th>release_date</th>\n",
       "      <th>genres</th>\n",
       "      <th>belongs_to_collection</th>\n",
       "      <th>original_language</th>\n",
       "      <th>budget_musd</th>\n",
       "      <th>revenue_musd</th>\n",
       "      <th>production_companies</th>\n",
       "      <th>production_countries</th>\n",
       "      <th>vote_count</th>\n",
       "      <th>vote_average</th>\n",
       "      <th>popularity</th>\n",
       "      <th>runtime</th>\n",
       "      <th>overview</th>\n",
       "      <th>spoken_languages</th>\n",
       "      <th>poster_path</th>\n",
       "      <th>cast</th>\n",
       "      <th>crew</th>\n",
       "    </tr>\n",
       "  </thead>\n",
       "  <tbody>\n",
       "    <tr>\n",
       "      <th>0</th>\n",
       "      <td>862</td>\n",
       "      <td>Toy Story</td>\n",
       "      <td>NaN</td>\n",
       "      <td>1995-10-30</td>\n",
       "      <td>Animation|Comedy|Family</td>\n",
       "      <td>Toy Story Collection</td>\n",
       "      <td>en</td>\n",
       "      <td>30.0</td>\n",
       "      <td>373.554033</td>\n",
       "      <td>Pixar Animation Studios</td>\n",
       "      <td>United States of America</td>\n",
       "      <td>5415.0</td>\n",
       "      <td>7.7</td>\n",
       "      <td>21.946943</td>\n",
       "      <td>81.0</td>\n",
       "      <td>Led by Woody, Andy's toys live happily in his ...</td>\n",
       "      <td>English</td>\n",
       "      <td>&lt;img src='http://image.tmdb.org/t/p/w185//rhIR...</td>\n",
       "      <td>[{'cast_id': 14, 'character': 'Woody (voice)',...</td>\n",
       "      <td>[{'credit_id': '52fe4284c3a36847f8024f49', 'de...</td>\n",
       "    </tr>\n",
       "    <tr>\n",
       "      <th>1</th>\n",
       "      <td>8844</td>\n",
       "      <td>Jumanji</td>\n",
       "      <td>Roll the dice and unleash the excitement!</td>\n",
       "      <td>1995-12-15</td>\n",
       "      <td>Adventure|Fantasy|Family</td>\n",
       "      <td>NaN</td>\n",
       "      <td>en</td>\n",
       "      <td>65.0</td>\n",
       "      <td>262.797249</td>\n",
       "      <td>TriStar Pictures|Teitler Film|Interscope Commu...</td>\n",
       "      <td>United States of America</td>\n",
       "      <td>2413.0</td>\n",
       "      <td>6.9</td>\n",
       "      <td>17.015539</td>\n",
       "      <td>104.0</td>\n",
       "      <td>When siblings Judy and Peter discover an encha...</td>\n",
       "      <td>English|Français</td>\n",
       "      <td>&lt;img src='http://image.tmdb.org/t/p/w185//vzmL...</td>\n",
       "      <td>[{'cast_id': 1, 'character': 'Alan Parrish', '...</td>\n",
       "      <td>[{'credit_id': '52fe44bfc3a36847f80a7cd1', 'de...</td>\n",
       "    </tr>\n",
       "  </tbody>\n",
       "</table>\n",
       "</div>"
      ],
      "text/plain": [
       "     id      title                                    tagline release_date  \\\n",
       "0   862  Toy Story                                        NaN   1995-10-30   \n",
       "1  8844    Jumanji  Roll the dice and unleash the excitement!   1995-12-15   \n",
       "\n",
       "                     genres belongs_to_collection original_language  \\\n",
       "0   Animation|Comedy|Family  Toy Story Collection                en   \n",
       "1  Adventure|Fantasy|Family                   NaN                en   \n",
       "\n",
       "   budget_musd  revenue_musd  \\\n",
       "0         30.0    373.554033   \n",
       "1         65.0    262.797249   \n",
       "\n",
       "                                production_companies  \\\n",
       "0                            Pixar Animation Studios   \n",
       "1  TriStar Pictures|Teitler Film|Interscope Commu...   \n",
       "\n",
       "       production_countries  vote_count  vote_average  popularity  runtime  \\\n",
       "0  United States of America      5415.0           7.7   21.946943     81.0   \n",
       "1  United States of America      2413.0           6.9   17.015539    104.0   \n",
       "\n",
       "                                            overview  spoken_languages  \\\n",
       "0  Led by Woody, Andy's toys live happily in his ...           English   \n",
       "1  When siblings Judy and Peter discover an encha...  English|Français   \n",
       "\n",
       "                                         poster_path  \\\n",
       "0  <img src='http://image.tmdb.org/t/p/w185//rhIR...   \n",
       "1  <img src='http://image.tmdb.org/t/p/w185//vzmL...   \n",
       "\n",
       "                                                cast  \\\n",
       "0  [{'cast_id': 14, 'character': 'Woody (voice)',...   \n",
       "1  [{'cast_id': 1, 'character': 'Alan Parrish', '...   \n",
       "\n",
       "                                                crew  \n",
       "0  [{'credit_id': '52fe4284c3a36847f8024f49', 'de...  \n",
       "1  [{'credit_id': '52fe44bfc3a36847f80a7cd1', 'de...  "
      ]
     },
     "execution_count": 10,
     "metadata": {},
     "output_type": "execute_result"
    }
   ],
   "source": [
    "df.head(2)"
   ]
  },
  {
   "cell_type": "code",
   "execution_count": null,
   "metadata": {},
   "outputs": [],
   "source": []
  },
  {
   "cell_type": "markdown",
   "metadata": {},
   "source": [
    "## Cleaning and Transforming the new \"Cast\" Column"
   ]
  },
  {
   "cell_type": "markdown",
   "metadata": {},
   "source": [
    "4.  __Evaluate__ Python Expressions in the stringified column \"cast\" and __remove quotes__ (\"\") where possible."
   ]
  },
  {
   "cell_type": "markdown",
   "metadata": {},
   "source": [
    "<h3> Overriding the cast column containing the json strings"
   ]
  },
  {
   "cell_type": "code",
   "execution_count": 11,
   "metadata": {},
   "outputs": [],
   "source": [
    "df.cast = df.cast.apply(lambda x: ast.literal_eval(x) if isinstance(x, str) else np.nan)"
   ]
  },
  {
   "cell_type": "code",
   "execution_count": null,
   "metadata": {},
   "outputs": [],
   "source": []
  },
  {
   "cell_type": "markdown",
   "metadata": {},
   "source": [
    "5. __Determine__ the __cast size__ for all movies (number of actors) and add the additional column \"cast_size\"."
   ]
  },
  {
   "cell_type": "markdown",
   "metadata": {},
   "source": [
    "<h3> Adding additional column cast_size"
   ]
  },
  {
   "cell_type": "code",
   "execution_count": 12,
   "metadata": {},
   "outputs": [],
   "source": [
    "df['cast_size']  = df.cast.apply(lambda x: len(x))"
   ]
  },
  {
   "cell_type": "code",
   "execution_count": 13,
   "metadata": {},
   "outputs": [
    {
     "data": {
      "text/plain": [
       "10    2770\n",
       "8     2729\n",
       "7     2710\n",
       "6     2649\n",
       "5     2637\n",
       "Name: cast_size, dtype: int64"
      ]
     },
     "execution_count": 13,
     "metadata": {},
     "output_type": "execute_result"
    }
   ],
   "source": [
    "df.cast_size.value_counts(dropna = False).head(5)"
   ]
  },
  {
   "cell_type": "code",
   "execution_count": null,
   "metadata": {},
   "outputs": [],
   "source": []
  },
  {
   "cell_type": "markdown",
   "metadata": {},
   "source": [
    "6. __Extract__ all __actor names__ from the column \"cast\" and __overwrite__ \"cast\". If a movie has more than one actor, __seperate names by a pipe__ \"|\".<br>\n",
    "For example: The value in the first row (Toy Story) should be 'Tom Hanks|Tim Allen|Don Rickles|Jim Varney|Wallace Shawn|John Ratzenberger|Annie Potts|John Morris|Erik von Detten|Laurie Metcalf|R. Lee Ermey|Sarah Freeman|Penn Jillette'."
   ]
  },
  {
   "cell_type": "code",
   "execution_count": 14,
   "metadata": {},
   "outputs": [],
   "source": [
    "df.cast = df.cast.apply(lambda x: '|'.join(i['name'] for i in x) if isinstance(x, list) else np.nan)"
   ]
  },
  {
   "cell_type": "code",
   "execution_count": 15,
   "metadata": {},
   "outputs": [
    {
     "data": {
      "text/plain": [
       "'Robin Williams|Jonathan Hyde|Kirsten Dunst|Bradley Pierce|Bonnie Hunt|Bebe Neuwirth|David Alan Grier|Patricia Clarkson|Adam Hann-Byrd|Laura Bell Bundy|James Handy|Gillian Barber|Brandon Obray|Cyrus Thiedeke|Gary Joseph Thorup|Leonard Zola|Lloyd Berry|Malcolm Stewart|Annabel Kershaw|Darryl Henriques|Robyn Driscoll|Peter Bryant|Sarah Gilson|Florica Vlad|June Lion|Brenda Lockmuller'"
      ]
     },
     "execution_count": 15,
     "metadata": {},
     "output_type": "execute_result"
    }
   ],
   "source": [
    "df.cast[1]"
   ]
  },
  {
   "cell_type": "markdown",
   "metadata": {},
   "source": [
    "7. __Inspect__ cast with value_counts(). Do you see anything strange? __Take reasonable measures__!"
   ]
  },
  {
   "cell_type": "code",
   "execution_count": 16,
   "metadata": {},
   "outputs": [
    {
     "data": {
      "text/plain": [
       "                      2189\n",
       "Georges Méliès          24\n",
       "Louis Theroux           15\n",
       "Mel Blanc               12\n",
       "Jimmy Carr               9\n",
       "George Carlin            8\n",
       "Werner Herzog            8\n",
       "David Attenborough       8\n",
       "Louis C.K.               8\n",
       "Doug Stanhope            6\n",
       "Name: cast, dtype: int64"
      ]
     },
     "execution_count": 16,
     "metadata": {},
     "output_type": "execute_result"
    }
   ],
   "source": [
    "df.cast.value_counts().head(10)"
   ]
  },
  {
   "cell_type": "markdown",
   "metadata": {},
   "source": [
    "<h1 style=\"color: green\"> There are empty values with the data"
   ]
  },
  {
   "cell_type": "code",
   "execution_count": 17,
   "metadata": {},
   "outputs": [],
   "source": [
    "df.cast.replace('', np.nan, inplace = True)"
   ]
  },
  {
   "cell_type": "code",
   "execution_count": 18,
   "metadata": {},
   "outputs": [
    {
     "data": {
      "text/plain": [
       "Georges Méliès                                                                                                                                                                                                                                                                                                                                                                                                                                                                                                                                                                                                                                                                                                                                                                                                                                                                                                                                                                         24\n",
       "Louis Theroux                                                                                                                                                                                                                                                                                                                                                                                                                                                                                                                                                                                                                                                                                                                                                                                                                                                                                                                                                                          15\n",
       "Mel Blanc                                                                                                                                                                                                                                                                                                                                                                                                                                                                                                                                                                                                                                                                                                                                                                                                                                                                                                                                                                              12\n",
       "Jimmy Carr                                                                                                                                                                                                                                                                                                                                                                                                                                                                                                                                                                                                                                                                                                                                                                                                                                                                                                                                                                              9\n",
       "David Attenborough                                                                                                                                                                                                                                                                                                                                                                                                                                                                                                                                                                                                                                                                                                                                                                                                                                                                                                                                                                      8\n",
       "George Carlin                                                                                                                                                                                                                                                                                                                                                                                                                                                                                                                                                                                                                                                                                                                                                                                                                                                                                                                                                                           8\n",
       "Louis C.K.                                                                                                                                                                                                                                                                                                                                                                                                                                                                                                                                                                                                                                                                                                                                                                                                                                                                                                                                                                              8\n",
       "Werner Herzog                                                                                                                                                                                                                                                                                                                                                                                                                                                                                                                                                                                                                                                                                                                                                                                                                                                                                                                                                                           8\n",
       "Patton Oswalt                                                                                                                                                                                                                                                                                                                                                                                                                                                                                                                                                                                                                                                                                                                                                                                                                                                                                                                                                                           6\n",
       "Trevor Noah                                                                                                                                                                                                                                                                                                                                                                                                                                                                                                                                                                                                                                                                                                                                                                                                                                                                                                                                                                             6\n",
       "Jim Jefferies                                                                                                                                                                                                                                                                                                                                                                                                                                                                                                                                                                                                                                                                                                                                                                                                                                                                                                                                                                           6\n",
       "Ricky Gervais                                                                                                                                                                                                                                                                                                                                                                                                                                                                                                                                                                                                                                                                                                                                                                                                                                                                                                                                                                           6\n",
       "Doug Stanhope                                                                                                                                                                                                                                                                                                                                                                                                                                                                                                                                                                                                                                                                                                                                                                                                                                                                                                                                                                           6\n",
       "Dylan Moran                                                                                                                                                                                                                                                                                                                                                                                                                                                                                                                                                                                                                                                                                                                                                                                                                                                                                                                                                                             5\n",
       "Jim Gaffigan                                                                                                                                                                                                                                                                                                                                                                                                                                                                                                                                                                                                                                                                                                                                                                                                                                                                                                                                                                            5\n",
       "Kenneth Branagh                                                                                                                                                                                                                                                                                                                                                                                                                                                                                                                                                                                                                                                                                                                                                                                                                                                                                                                                                                         5\n",
       "Lewis Black                                                                                                                                                                                                                                                                                                                                                                                                                                                                                                                                                                                                                                                                                                                                                                                                                                                                                                                                                                             5\n",
       "Bill Maher                                                                                                                                                                                                                                                                                                                                                                                                                                                                                                                                                                                                                                                                                                                                                                                                                                                                                                                                                                              5\n",
       "Eddie Izzard                                                                                                                                                                                                                                                                                                                                                                                                                                                                                                                                                                                                                                                                                                                                                                                                                                                                                                                                                                            5\n",
       "Bill Burr                                                                                                                                                                                                                                                                                                                                                                                                                                                                                                                                                                                                                                                                                                                                                                                                                                                                                                                                                                               5\n",
       "John Pilger                                                                                                                                                                                                                                                                                                                                                                                                                                                                                                                                                                                                                                                                                                                                                                                                                                                                                                                                                                             4\n",
       "Margaret Cho                                                                                                                                                                                                                                                                                                                                                                                                                                                                                                                                                                                                                                                                                                                                                                                                                                                                                                                                                                            4\n",
       "Don Hertzfeldt                                                                                                                                                                                                                                                                                                                                                                                                                                                                                                                                                                                                                                                                                                                                                                                                                                                                                                                                                                          4\n",
       "Jeff Dunham                                                                                                                                                                                                                                                                                                                                                                                                                                                                                                                                                                                                                                                                                                                                                                                                                                                                                                                                                                             4\n",
       "Robin Williams                                                                                                                                                                                                                                                                                                                                                                                                                                                                                                                                                                                                                                                                                                                                                                                                                                                                                                                                                                          4\n",
       "Russell Brand                                                                                                                                                                                                                                                                                                                                                                                                                                                                                                                                                                                                                                                                                                                                                                                                                                                                                                                                                                           4\n",
       "Walt Disney                                                                                                                                                                                                                                                                                                                                                                                                                                                                                                                                                                                                                                                                                                                                                                                                                                                                                                                                                                             4\n",
       "Slavoj Žižek                                                                                                                                                                                                                                                                                                                                                                                                                                                                                                                                                                                                                                                                                                                                                                                                                                                                                                                                                                            4\n",
       "Craig Ferguson                                                                                                                                                                                                                                                                                                                                                                                                                                                                                                                                                                                                                                                                                                                                                                                                                                                                                                                                                                          4\n",
       "Dave Attell                                                                                                                                                                                                                                                                                                                                                                                                                                                                                                                                                                                                                                                                                                                                                                                                                                                                                                                                                                             4\n",
       "                                                                                                                                                                                                                                                                                                                                                                                                                                                                                                                                                                                                                                                                                                                                                                                                                                                                                                                                                                                       ..\n",
       "Amanda Knox|Anderson Cooper|Arline Kercher|Curt Knox|Giuliano Mignini|Raffaele Sollecito|Donald Trump                                                                                                                                                                                                                                                                                                                                                                                                                                                                                                                                                                                                                                                                                                                                                                                                                                                                                   1\n",
       "Jason Statham|Vondie Curtis-Hall|Tamala Jones|John Ralston|Ja Rule|Chris Messina|Eugene Clark|Derwin Jordan|Patrice Goodman|Chang Tseng|Harry-O|Elain R. Graham|Faith Evans|Melyssa Ford|Jeff Jones|LeRoy Allen|Shinehead|DJ Skribble|Conrad Dunn|Pras|Patricia Velásquez                                                                                                                                                                                                                                                                                                                                                                                                                                                                                                                                                                                                                                                                                                               1\n",
       "Jung Jae-young|Lee Sung-min|Seo Jun-young|Lee Soo-bin|Kim Dae-myung|Park Myung-shin|Lee Ju-seung|Kim Hyeon-I                                                                                                                                                                                                                                                                                                                                                                                                                                                                                                                                                                                                                                                                                                                                                                                                                                                                            1\n",
       "Jean-Pierre Darroussin|Clotilde Courau|Julien Rassam|Stéphane Boucher|Julie Delarme|Aristide Demonico|James Faulkner                                                                                                                                                                                                                                                                                                                                                                                                                                                                                                                                                                                                                                                                                                                                                                                                                                                                    1\n",
       "Til Schweiger|Moritz Bleibtreu|Hannah Herzsprung|Rainer Bock|Karoline Schuch|Nina Eichinger|Oliver Korittke|Heiner Lauterbach|Tim Wilde|Axel Stein|Herbert Knaup|Jacob Matschenz|Kostja Ullmann|Katharina Schüttler|Ralph Herforth                                                                                                                                                                                                                                                                                                                                                                                                                                                                                                                                                                                                                                                                                                                                                      1\n",
       "Calista Flockhart|Richard Roxburgh|Elena Anaya|Gemma Jones|Colin McFarlane|Yasmin Murphy|Michael Pennington|Daniel Ortiz|Ivana Baquero                                                                                                                                                                                                                                                                                                                                                                                                                                                                                                                                                                                                                                                                                                                                                                                                                                                  1\n",
       "Steven Seagal|Tim Abell|Rob Van Dam|Dale Dye|Charlene Amoia|Jason-Shane Scott|Daniel Booko|Anthony Batarse|Gerald Webb                                                                                                                                                                                                                                                                                                                                                                                                                                                                                                                                                                                                                                                                                                                                                                                                                                                                  1\n",
       "Anthony Hopkins|Nicol Williamson|Judy Parfitt|Marianne Faithfull|Mark Dignam|Gordon Jackson|Ben Aris|Clive Graham|Roger Livesey|Michael Elphick|David Griffith|Anjelica Huston|Roger Lloyd Pack|Michael Pennington                                                                                                                                                                                                                                                                                                                                                                                                                                                                                                                                                                                                                                                                                                                                                                      1\n",
       "Susan Sarandon|Ralph Fiennes|Peter Asher|Don Harvey|Chris Bauer|Monique Gabriela Curnen|April Yvette Thompson|Marilyn Torres|James Rebhorn|Dominick Dunne                                                                                                                                                                                                                                                                                                                                                                                                                                                                                                                                                                                                                                                                                                                                                                                                                               1\n",
       "Luke Carroll|Lisa Flanagan|Kevin Harrington|Nathan Phillips                                                                                                                                                                                                                                                                                                                                                                                                                                                                                                                                                                                                                                                                                                                                                                                                                                                                                                                             1\n",
       "John Heard|Mary Beth Hurt|Peter Riegert|Kenneth McMillan|Gloria Grahame|Nora Heflin|Jerry Hardin|Tarah Nutter|Mark Metcalf|Allen Joseph|Frances Bay|Griffin Dunne                                                                                                                                                                                                                                                                                                                                                                                                                                                                                                                                                                                                                                                                                                                                                                                                                       1\n",
       "John Ashley|Pat Woodell|Jan Merlin|Charles Macaulay|Pam Grier|Ken Metcalfe|Kim Ramos|Mona Morena|Eddie Garcia|Andres Centenera                                                                                                                                                                                                                                                                                                                                                                                                                                                                                                                                                                                                                                                                                                                                                                                                                                                          1\n",
       "Richard Gere|Joan Allen|Jason Alexander|Cary-Hiroyuki Tagawa|Sarah Roemer|Erick Avari|Davenia McFadden|Robbie Sublett|Tora Hallström|Bates Wilder|Rich Tretheway|Ellen Becker-Gray|David Boston|Robert Capron|Becki Dennis|John Franchi|Adam Masnyk|Roy Souza                                                                                                                                                                                                                                                                                                                                                                                                                                                                                                                                                                                                                                                                                                                           1\n",
       "David Niven|Olivia de Havilland|Dame May Whitty|Dudley Digges|Douglas Walton|E.E. Clive|Lionel Pape|Margaret Seddon|Hilda Plowright|Gilbert Emery|Keith Hitchcock|Vesey O'Davoren|George Cathrey|Gibson Gowland|George Atkinson|Frank Baker|Leonard Carey|Herbert Clifton|Richard Clucas|Larry Dods|Elspeth Dudgeon|James Finlayson|Leyland Hodgson|Charles Irwin|Colin Kenny|George Kirby|Wilfred Lucas|Edmund Mortimer|John Power|Ellinor Vanderveer|Eric Wilton|Sam Harris|Peter Godfrey                                                                                                                                                                                                                                                                                                                                                                                                                                                                                             1\n",
       "Owen Wilson|Leslie Mann|Josh Peck|David Dorfman|Nate Hartley|Alex Frost|Troy Gentile|Casey Boersma|Dylan Boersma|Lisa Ann Walter|Beth Littleford|David Koechner|Matt Walsh|Janet Varney|Lisa Lampanelli|Bill O'Neill|Shaun Weiss|Jordan Valacich|Danny McBride|Ian Roberts|Julia Roth|Alex Donnelley|Katie Gill|Valerie Tian|Dana Nicole Silver|Andrew Caldwell|Vincent Malouf|Mo Gallini|Stacy Arnell|David Bowe|Tichina Arnold|Cedric Yarbrough|Robert Musgrave|Joe Wilson|Jeff Kahn|Adam Ho|Stephen Root|Lauren Glenn|Leslie Ann Lizarde|Rance Howard|Steve Bannos                                                                                                                                                                                                                                                                                                                                                                                                                   1\n",
       "Bruno Zanin|Armando Brancia|Pupella Maggio|Giuseppe Ianigro|Nando Orfei|Stefano Proietti|Magali Noël|Gianfranco Marrocco|Antonino Faà di Bruno|Donatella Gambini|Fernando De Felice|Bruno Lenzi|Bruno Scagnetti|Alvaro Vitali|Ciccio Ingrassia|Francesco Vona|Aristide Caporale|Luigi Rossi|Gennaro Ombra|Domenico Pertica|Ferruccio Brembilla|Marcello Di Falco|Antonio Spaccatini|Maria Antonietta Beluzzi|Josiane Tanzilli|Gianfilippo Carcano|Mauro Misul|Ferdinando Villella                                                                                                                                                                                                                                                                                                                                                                                                                                                                                                       1\n",
       "Hilary Duff|Jennifer Coolidge|Chad Michael Murray|Dan Byrd|Regina King|Julie Gonzalo|Lin Shaye|Madeline Zima|Andrea Avery|Mary Pat Gleason|Paul Rodríguez|Whip Hubley|Kevin Kilner|Erica Hubbard|Simon Helberg|Brad Bufanda|J. D. Pardo|Aimee-Lynn Chadwick|Kady Cole|Hannah Robinson|Josh Prince|Art LaFleur|James Eckhouse|Jonathan Slavin|John Billingsley|Lilli Babb|Carlie Westerman|Mike Randleman|Christie Herring|Lindsay Hollister|Taylor Hoover|Brittany Weber|Darryl Sivad|Rita Bland|Keli Murphy|Alexis Raich|Sabin Rich|Sandra McCoy|Julianne Waters|Karen Elmore|Stella Choe|Jessie Rice-Holiday|Cricket Hamar|Shannon Novak|Oscar Orosco|Jason Beitel|Kato Bonner|Carol Borjas|Reshma Gajjar|Molly Gosline|Hunter Hamilton|Richard Jackson|Trey Knight|Jonathan Ritter|Jenny Seeger|Becca Sweitzer|Melanie A. Gage|Jolene Riella|Elle Bennett|Joe Jagatic|Lon Michael Lee|Tarah Paige|Justin Rhoads|Danielle Riffenburgh|Rory Charles Thost|John H. Tobin|Toni Wynne     1\n",
       "Lars Ulrich|Death Angel|Tom Angelripper|Phil Anselmo|Tom Araya|Bobby \"Blitz\" Ellsworth|Scott Ian|Dave Mustaine|Kerry King|Gene Hoglan|Gary Holt|Frank Bello|Charlie Benante                                                                                                                                                                                                                                                                                                                                                                                                                                                                                                                                                                                                                                                                                                                                                                                                             1\n",
       "Jo Jae-hyeon|Jang Dong-jik|Ryun Jang|Sasha Rucavina|Richard Bohringer|Denis Lavant|Laurent Buro                                                                                                                                                                                                                                                                                                                                                                                                                                                                                                                                                                                                                                                                                                                                                                                                                                                                                         1\n",
       "Sunny Deol|Jackie Shroff|Sunil Shetty|Akshaye Khanna|Puneet Issar|Kulbhushan Kharbanda|Pooja Bhatt|Tabu|Sharbani Mukherji|Sudesh Berry|Rakhee Gulzar                                                                                                                                                                                                                                                                                                                                                                                                                                                                                                                                                                                                                                                                                                                                                                                                                                    1\n",
       "Larry Wilcox|Erik Estrada|Robert Pine                                                                                                                                                                                                                                                                                                                                                                                                                                                                                                                                                                                                                                                                                                                                                                                                                                                                                                                                                   1\n",
       "Laura Gemser|Gabriele Tinti|Ursula Flores|Maria Romano|Lorraine De Selle|Raul Cabrera|Franca Stoppi|Carlo De Mejo|Antonella Giacomini|Robert Mura|Françoise Perrot|Jacques Stany                                                                                                                                                                                                                                                                                                                                                                                                                                                                                                                                                                                                                                                                                                                                                                                                        1\n",
       "Gary Cooper|Dorothy McGuire|Anthony Perkins|Richard Eyer|Robert Middleton|Phyllis Love|Peter Mark Richman|Walter Catlett|Richard Hale|Joel Fluellen|Theodore Newton|John Smith|Edna Skinner|Marjorie Durant|Frances Farwell|Samantha, the Goose|Marjorie Main|Edward Andrews|Robert Fuller|Norman Leavitt|Nelson Leigh|Tom London|Doug McClure|William Schallert|Joe Turkel|'Snub' Pollard|Ivan Rasputin                                                                                                                                                                                                                                                                                                                                                                                                                                                                                                                                                                                1\n",
       "Björn Skifs|Gino Samil|Johan Ulveson|Magnus Nilsson|Stefan Sauk|Gunnel Fred                                                                                                                                                                                                                                                                                                                                                                                                                                                                                                                                                                                                                                                                                                                                                                                                                                                                                                             1\n",
       "Barbra Streisand|Mandy Patinkin|Amy Irving|Nehemiah Persoff|Steven Hill|Miriam Margolyes|Jonathan Tafler                                                                                                                                                                                                                                                                                                                                                                                                                                                                                                                                                                                                                                                                                                                                                                                                                                                                                1\n",
       "Paul Giamatti|Dustin Hoffman|Rosamund Pike|Minnie Driver|Rachelle Lefevre|Macha Grenon|Mark Addy|Anna Hopkins|Scott Speedman|Brittany Drisdelle                                                                                                                                                                                                                                                                                                                                                                                                                                                                                                                                                                                                                                                                                                                                                                                                                                         1\n",
       "Elvis Presley|Barbara Stanwyck|Leif Erickson|Joan Freeman|Sue Ane Langdon|Pat Buttram|Joan Staley|Dabbs Greer|Raquel Welch|Teri Garr|Steve Brodie|Norman Grabowski|Jack Albertson|Billy Barty|Richard Kiel|Joy Harmon|Linda Foster|Marianna Hill|Beverly Adams|Wilda Taylor                                                                                                                                                                                                                                                                                                                                                                                                                                                                                                                                                                                                                                                                                                             1\n",
       "Robert Redford|Glenn Close|Kim Basinger|Wilford Brimley|Robert Duvall|Richard Farnsworth|Barbara Hershey|Robert Prosky|Michael Madsen|Joe Don Baker|Darren McGavin                                                                                                                                                                                                                                                                                                                                                                                                                                                                                                                                                                                                                                                                                                                                                                                                                      1\n",
       "Liam Neeson|Bradley Cooper|Jessica Biel|Sharlto Copley|Patrick Wilson|Quinton Jackson|Gerald McRaney|Brian Bloom|Omari Hardwick|Maury Sterling|Terry Chen|C. Ernst Harth|Neil Schell|Yul Vazquez|Alex Madison|Henry Czerny|Jacob Blair|Rad Daly|Kyle Riefsnyder|Jon Hamm|Natalie James|Christian Tessier|William 'Big Sleeps' Stewart|Marc-Anthony Massiah|Gardiner Millar|Anita Brown|Raf Rogers|Stefan Arngrim|David Hugghins|Andrew Coghlan|James O'Sullivan|Kwesi Ameyaw|Rob Conway|Ben Bray|Jimmy Ortega|Joe Carnahan|Leah Carnahan|Michael St. John Smith|Shaw Madson|Katie Boskovich|Tony Ali|Sam Radjinia|Billy Wickman|Brendan Penny|Jeanne-Melanie Haasbroek|Tom Butler|Woody Carnahan|Dirk Benedict|Dwight Schultz|Don Knodel|Vince Murdocco|Fraser Aitcheson|Jason Schombing|Jennifer Cheon|Stephane Fromont|Karl Maier|Anne Maier|Hitesh Jogia|Marwan Al-Shami|Ali Bordbar                                                                                                 1\n",
       "Crissy Rock|Vladimir Vega|Sandie Lavelle|Mauricio Venegas|Ray Winstone|Clare Perkins|Jason Stracey|Luke Brown|Lily Farrell|Scottie Moore|Linda Ross|Kim Hartley|Jimmy Batten|Sue Sawyer|Pamela Hunt|Alan Gold|James Bannon|Caroline Conway|Ali De Souza|Deirdre Edwards|Lucie Fitchett|Sue Gifford|Arbel Jones|Tom Keller|Terence Maynard|Nick Miles|Yvonne Riley|Bruce Alexander                                                                                                                                                                                                                                                                                                                                                                                                                                                                                                                                                                                                       1\n",
       "Name: cast, Length: 42166, dtype: int64"
      ]
     },
     "execution_count": 18,
     "metadata": {},
     "output_type": "execute_result"
    }
   ],
   "source": [
    "df.cast.value_counts()"
   ]
  },
  {
   "cell_type": "markdown",
   "metadata": {},
   "source": [
    "## Cleaning and Transforming the new \"Crew\" Column"
   ]
  },
  {
   "cell_type": "markdown",
   "metadata": {},
   "source": [
    "8.  __Evaluate__ Python Expressions in the stringified column \"crew\" and __remove quotes__ (\"\") where possible."
   ]
  },
  {
   "cell_type": "code",
   "execution_count": 19,
   "metadata": {},
   "outputs": [],
   "source": [
    "df.crew = df.crew.apply(lambda x: ast.literal_eval(x) if isinstance(x, str) else np.nan)"
   ]
  },
  {
   "cell_type": "code",
   "execution_count": 20,
   "metadata": {},
   "outputs": [
    {
     "data": {
      "text/plain": [
       "[{'credit_id': '52fe4284c3a36847f8024f49',\n",
       "  'department': 'Directing',\n",
       "  'gender': 2,\n",
       "  'id': 7879,\n",
       "  'job': 'Director',\n",
       "  'name': 'John Lasseter',\n",
       "  'profile_path': '/7EdqiNbr4FRjIhKHyPPdFfEEEFG.jpg'},\n",
       " {'credit_id': '52fe4284c3a36847f8024f4f',\n",
       "  'department': 'Writing',\n",
       "  'gender': 2,\n",
       "  'id': 12891,\n",
       "  'job': 'Screenplay',\n",
       "  'name': 'Joss Whedon',\n",
       "  'profile_path': '/dTiVsuaTVTeGmvkhcyJvKp2A5kr.jpg'},\n",
       " {'credit_id': '52fe4284c3a36847f8024f55',\n",
       "  'department': 'Writing',\n",
       "  'gender': 2,\n",
       "  'id': 7,\n",
       "  'job': 'Screenplay',\n",
       "  'name': 'Andrew Stanton',\n",
       "  'profile_path': '/pvQWsu0qc8JFQhMVJkTHuexUAa1.jpg'},\n",
       " {'credit_id': '52fe4284c3a36847f8024f5b',\n",
       "  'department': 'Writing',\n",
       "  'gender': 2,\n",
       "  'id': 12892,\n",
       "  'job': 'Screenplay',\n",
       "  'name': 'Joel Cohen',\n",
       "  'profile_path': '/dAubAiZcvKFbboWlj7oXOkZnTSu.jpg'},\n",
       " {'credit_id': '52fe4284c3a36847f8024f61',\n",
       "  'department': 'Writing',\n",
       "  'gender': 0,\n",
       "  'id': 12893,\n",
       "  'job': 'Screenplay',\n",
       "  'name': 'Alec Sokolow',\n",
       "  'profile_path': '/v79vlRYi94BZUQnkkyznbGUZLjT.jpg'},\n",
       " {'credit_id': '52fe4284c3a36847f8024f67',\n",
       "  'department': 'Production',\n",
       "  'gender': 1,\n",
       "  'id': 12894,\n",
       "  'job': 'Producer',\n",
       "  'name': 'Bonnie Arnold',\n",
       "  'profile_path': None},\n",
       " {'credit_id': '52fe4284c3a36847f8024f6d',\n",
       "  'department': 'Production',\n",
       "  'gender': 0,\n",
       "  'id': 12895,\n",
       "  'job': 'Executive Producer',\n",
       "  'name': 'Ed Catmull',\n",
       "  'profile_path': None},\n",
       " {'credit_id': '52fe4284c3a36847f8024f73',\n",
       "  'department': 'Production',\n",
       "  'gender': 2,\n",
       "  'id': 12896,\n",
       "  'job': 'Producer',\n",
       "  'name': 'Ralph Guggenheim',\n",
       "  'profile_path': None},\n",
       " {'credit_id': '52fe4284c3a36847f8024f79',\n",
       "  'department': 'Production',\n",
       "  'gender': 2,\n",
       "  'id': 12897,\n",
       "  'job': 'Executive Producer',\n",
       "  'name': 'Steve Jobs',\n",
       "  'profile_path': '/mOMP3SwD5qWQSR0ldCIByd3guTV.jpg'},\n",
       " {'credit_id': '52fe4284c3a36847f8024f8b',\n",
       "  'department': 'Editing',\n",
       "  'gender': 2,\n",
       "  'id': 8,\n",
       "  'job': 'Editor',\n",
       "  'name': 'Lee Unkrich',\n",
       "  'profile_path': '/bdTCCXjgOV3YyaNmLGYGOxFQMOc.jpg'},\n",
       " {'credit_id': '52fe4284c3a36847f8024f91',\n",
       "  'department': 'Art',\n",
       "  'gender': 2,\n",
       "  'id': 7883,\n",
       "  'job': 'Art Direction',\n",
       "  'name': 'Ralph Eggleston',\n",
       "  'profile_path': '/uUfcGKDsKO1aROMpXRs67Hn6RvR.jpg'},\n",
       " {'credit_id': '598331bf925141421201044b',\n",
       "  'department': 'Editing',\n",
       "  'gender': 2,\n",
       "  'id': 1168870,\n",
       "  'job': 'Editor',\n",
       "  'name': 'Robert Gordon',\n",
       "  'profile_path': None},\n",
       " {'credit_id': '5892168cc3a36809660095f9',\n",
       "  'department': 'Sound',\n",
       "  'gender': 0,\n",
       "  'id': 1552883,\n",
       "  'job': 'Foley Editor',\n",
       "  'name': 'Mary Helen Leasman',\n",
       "  'profile_path': None},\n",
       " {'credit_id': '5531824d9251415289000945',\n",
       "  'department': 'Visual Effects',\n",
       "  'gender': 0,\n",
       "  'id': 1453514,\n",
       "  'job': 'Animation',\n",
       "  'name': 'Kim Blanchette',\n",
       "  'profile_path': None},\n",
       " {'credit_id': '589215969251412dcb009bf6',\n",
       "  'department': 'Sound',\n",
       "  'gender': 0,\n",
       "  'id': 1414182,\n",
       "  'job': 'ADR Editor',\n",
       "  'name': 'Marilyn McCoppen',\n",
       "  'profile_path': None},\n",
       " {'credit_id': '589217099251412dc500a018',\n",
       "  'department': 'Sound',\n",
       "  'gender': 2,\n",
       "  'id': 7885,\n",
       "  'job': 'Orchestrator',\n",
       "  'name': 'Randy Newman',\n",
       "  'profile_path': '/w0JzfoiM25nrnxYOzosPHRq6mlE.jpg'},\n",
       " {'credit_id': '5693e6b29251417b0e0000e3',\n",
       "  'department': 'Editing',\n",
       "  'gender': 0,\n",
       "  'id': 1429549,\n",
       "  'job': 'Color Timer',\n",
       "  'name': 'Dale E. Grahn',\n",
       "  'profile_path': None},\n",
       " {'credit_id': '572e2522c3a36869e6001a9c',\n",
       "  'department': 'Visual Effects',\n",
       "  'gender': 0,\n",
       "  'id': 7949,\n",
       "  'job': 'CG Painter',\n",
       "  'name': 'Robin Cooper',\n",
       "  'profile_path': None},\n",
       " {'credit_id': '574f12309251415ca1000012',\n",
       "  'department': 'Writing',\n",
       "  'gender': 2,\n",
       "  'id': 7879,\n",
       "  'job': 'Original Story',\n",
       "  'name': 'John Lasseter',\n",
       "  'profile_path': '/7EdqiNbr4FRjIhKHyPPdFfEEEFG.jpg'},\n",
       " {'credit_id': '574f1240c3a3682e7300001c',\n",
       "  'department': 'Writing',\n",
       "  'gender': 2,\n",
       "  'id': 12890,\n",
       "  'job': 'Original Story',\n",
       "  'name': 'Pete Docter',\n",
       "  'profile_path': '/r6ngPgnReA3RHmKjmSoVsc6Awjp.jpg'},\n",
       " {'credit_id': '574f12519251415c92000015',\n",
       "  'department': 'Writing',\n",
       "  'gender': 0,\n",
       "  'id': 7911,\n",
       "  'job': 'Original Story',\n",
       "  'name': 'Joe Ranft',\n",
       "  'profile_path': '/f1BoWC2JbCcfP1e5hKfGsxkHzVU.jpg'},\n",
       " {'credit_id': '574f12cec3a3682e82000022',\n",
       "  'department': 'Crew',\n",
       "  'gender': 0,\n",
       "  'id': 1629419,\n",
       "  'job': 'Post Production Supervisor',\n",
       "  'name': 'Patsy Bouge',\n",
       "  'profile_path': None},\n",
       " {'credit_id': '574f14f19251415ca1000082',\n",
       "  'department': 'Art',\n",
       "  'gender': 0,\n",
       "  'id': 7961,\n",
       "  'job': 'Sculptor',\n",
       "  'name': 'Norm DeCarlo',\n",
       "  'profile_path': None},\n",
       " {'credit_id': '5751ae4bc3a3683772002b7f',\n",
       "  'department': 'Visual Effects',\n",
       "  'gender': 2,\n",
       "  'id': 12905,\n",
       "  'job': 'Animation Director',\n",
       "  'name': 'Ash Brannon',\n",
       "  'profile_path': '/6ueWgPEEBHvS3De2BHYQnYjRTig.jpg'},\n",
       " {'credit_id': '5891edbe9251412dc5007cd6',\n",
       "  'department': 'Sound',\n",
       "  'gender': 2,\n",
       "  'id': 7885,\n",
       "  'job': 'Music',\n",
       "  'name': 'Randy Newman',\n",
       "  'profile_path': '/w0JzfoiM25nrnxYOzosPHRq6mlE.jpg'},\n",
       " {'credit_id': '589213d39251412dc8009832',\n",
       "  'department': 'Directing',\n",
       "  'gender': 0,\n",
       "  'id': 1748707,\n",
       "  'job': 'Layout',\n",
       "  'name': 'Roman Figun',\n",
       "  'profile_path': None},\n",
       " {'credit_id': '5892173dc3a3680968009351',\n",
       "  'department': 'Sound',\n",
       "  'gender': 2,\n",
       "  'id': 4949,\n",
       "  'job': 'Orchestrator',\n",
       "  'name': 'Don Davis',\n",
       "  'profile_path': None},\n",
       " {'credit_id': '589217cec3a3686b0a0052ba',\n",
       "  'department': 'Sound',\n",
       "  'gender': 0,\n",
       "  'id': 1372885,\n",
       "  'job': 'Music Editor',\n",
       "  'name': 'James Flamberg',\n",
       "  'profile_path': None},\n",
       " {'credit_id': '58921831c3a3686348004a64',\n",
       "  'department': 'Editing',\n",
       "  'gender': 0,\n",
       "  'id': 1739962,\n",
       "  'job': 'Negative Cutter',\n",
       "  'name': 'Mary Beth Smith',\n",
       "  'profile_path': None},\n",
       " {'credit_id': '58921838c3a36809700096c0',\n",
       "  'department': 'Editing',\n",
       "  'gender': 0,\n",
       "  'id': 1748513,\n",
       "  'job': 'Negative Cutter',\n",
       "  'name': 'Rick Mackay',\n",
       "  'profile_path': None},\n",
       " {'credit_id': '589218429251412dd1009d1b',\n",
       "  'department': 'Art',\n",
       "  'gender': 0,\n",
       "  'id': 1458006,\n",
       "  'job': 'Title Designer',\n",
       "  'name': 'Susan Bradley',\n",
       "  'profile_path': None},\n",
       " {'credit_id': '5891ed99c3a3680966007670',\n",
       "  'department': 'Crew',\n",
       "  'gender': 0,\n",
       "  'id': 1748557,\n",
       "  'job': 'Supervising Technical Director',\n",
       "  'name': 'William Reeves',\n",
       "  'profile_path': None},\n",
       " {'credit_id': '5891edcec3a3686b0a002eb2',\n",
       "  'department': 'Sound',\n",
       "  'gender': 2,\n",
       "  'id': 7885,\n",
       "  'job': 'Songs',\n",
       "  'name': 'Randy Newman',\n",
       "  'profile_path': '/w0JzfoiM25nrnxYOzosPHRq6mlE.jpg'},\n",
       " {'credit_id': '5891edf9c3a36809700075e6',\n",
       "  'department': 'Writing',\n",
       "  'gender': 2,\n",
       "  'id': 7,\n",
       "  'job': 'Original Story',\n",
       "  'name': 'Andrew Stanton',\n",
       "  'profile_path': '/pvQWsu0qc8JFQhMVJkTHuexUAa1.jpg'},\n",
       " {'credit_id': '58920f0b9251412dd7009104',\n",
       "  'department': 'Crew',\n",
       "  'gender': 2,\n",
       "  'id': 12890,\n",
       "  'job': 'Supervising Animator',\n",
       "  'name': 'Pete Docter',\n",
       "  'profile_path': '/r6ngPgnReA3RHmKjmSoVsc6Awjp.jpg'},\n",
       " {'credit_id': '58920f1fc3a3680977009021',\n",
       "  'department': 'Sound',\n",
       "  'gender': 2,\n",
       "  'id': 2216,\n",
       "  'job': 'Sound Designer',\n",
       "  'name': 'Gary Rydstrom',\n",
       "  'profile_path': '/jZpr1nVfO7lldWI0YtmP1FGw7Rj.jpg'},\n",
       " {'credit_id': '58920f389251412dd700912d',\n",
       "  'department': 'Production',\n",
       "  'gender': 0,\n",
       "  'id': 12909,\n",
       "  'job': 'Production Supervisor',\n",
       "  'name': 'Karen Robert Jackson',\n",
       "  'profile_path': None},\n",
       " {'credit_id': '58920fbd9251412dcb00969c',\n",
       "  'department': 'Crew',\n",
       "  'gender': 0,\n",
       "  'id': 953331,\n",
       "  'job': 'Executive Music Producer',\n",
       "  'name': 'Chris Montan',\n",
       "  'profile_path': None},\n",
       " {'credit_id': '589210069251412dd7009219',\n",
       "  'department': 'Visual Effects',\n",
       "  'gender': 0,\n",
       "  'id': 7893,\n",
       "  'job': 'Animation Director',\n",
       "  'name': 'Rich Quade',\n",
       "  'profile_path': None},\n",
       " {'credit_id': '589210329251412dcd00943b',\n",
       "  'department': 'Visual Effects',\n",
       "  'gender': 0,\n",
       "  'id': 8025,\n",
       "  'job': 'Animation',\n",
       "  'name': 'Michael Berenstein',\n",
       "  'profile_path': None},\n",
       " {'credit_id': '5892103bc3a368096a009180',\n",
       "  'department': 'Visual Effects',\n",
       "  'gender': 0,\n",
       "  'id': 78009,\n",
       "  'job': 'Animation',\n",
       "  'name': 'Colin Brady',\n",
       "  'profile_path': None},\n",
       " {'credit_id': '5892105dc3a3680968008db2',\n",
       "  'department': 'Visual Effects',\n",
       "  'gender': 0,\n",
       "  'id': 1748682,\n",
       "  'job': 'Animation',\n",
       "  'name': 'Davey Crockett Feiten',\n",
       "  'profile_path': None},\n",
       " {'credit_id': '589210669251412dcd009466',\n",
       "  'department': 'Visual Effects',\n",
       "  'gender': 0,\n",
       "  'id': 1454030,\n",
       "  'job': 'Animation',\n",
       "  'name': 'Angie Glocka',\n",
       "  'profile_path': None},\n",
       " {'credit_id': '5892107c9251412dd1009613',\n",
       "  'department': 'Visual Effects',\n",
       "  'gender': 0,\n",
       "  'id': 1748683,\n",
       "  'job': 'Animation',\n",
       "  'name': 'Rex Grignon',\n",
       "  'profile_path': None},\n",
       " {'credit_id': '5892108ac3a3680973008d3f',\n",
       "  'department': 'Visual Effects',\n",
       "  'gender': 0,\n",
       "  'id': 1748684,\n",
       "  'job': 'Animation',\n",
       "  'name': 'Tom K. Gurney',\n",
       "  'profile_path': None},\n",
       " {'credit_id': '58921093c3a3686348004477',\n",
       "  'department': 'Visual Effects',\n",
       "  'gender': 2,\n",
       "  'id': 8029,\n",
       "  'job': 'Animation',\n",
       "  'name': 'Jimmy Hayward',\n",
       "  'profile_path': '/lTDRpudEY7BDwTefXbXzMlmb0ui.jpg'},\n",
       " {'credit_id': '5892109b9251412dcd0094b0',\n",
       "  'department': 'Visual Effects',\n",
       "  'gender': 0,\n",
       "  'id': 1426773,\n",
       "  'job': 'Animation',\n",
       "  'name': 'Hal T. Hickel',\n",
       "  'profile_path': None},\n",
       " {'credit_id': '589210a29251412dc5009a29',\n",
       "  'department': 'Visual Effects',\n",
       "  'gender': 0,\n",
       "  'id': 8035,\n",
       "  'job': 'Animation',\n",
       "  'name': 'Karen Kiser',\n",
       "  'profile_path': None},\n",
       " {'credit_id': '589210ccc3a3680977009191',\n",
       "  'department': 'Visual Effects',\n",
       "  'gender': 0,\n",
       "  'id': 1748688,\n",
       "  'job': 'Animation',\n",
       "  'name': 'Anthony B. LaMolinara',\n",
       "  'profile_path': None},\n",
       " {'credit_id': '589210d7c3a3686b0a004c1f',\n",
       "  'department': 'Visual Effects',\n",
       "  'gender': 0,\n",
       "  'id': 587314,\n",
       "  'job': 'Animation',\n",
       "  'name': 'Guionne Leroy',\n",
       "  'profile_path': None},\n",
       " {'credit_id': '589210e1c3a36809770091a7',\n",
       "  'department': 'Visual Effects',\n",
       "  'gender': 2,\n",
       "  'id': 7918,\n",
       "  'job': 'Animation',\n",
       "  'name': 'Bud Luckey',\n",
       "  'profile_path': '/pcCh7G19FKMNijmPQg1PMH1btic.jpg'},\n",
       " {'credit_id': '589210ee9251412dc200978a',\n",
       "  'department': 'Visual Effects',\n",
       "  'gender': 0,\n",
       "  'id': 1748689,\n",
       "  'job': 'Animation',\n",
       "  'name': 'Les Major',\n",
       "  'profile_path': None},\n",
       " {'credit_id': '589210fa9251412dc8009595',\n",
       "  'department': 'Visual Effects',\n",
       "  'gender': 2,\n",
       "  'id': 7892,\n",
       "  'job': 'Animation',\n",
       "  'name': 'Glenn McQueen',\n",
       "  'profile_path': None},\n",
       " {'credit_id': '589211029251412dc8009598',\n",
       "  'department': 'Visual Effects',\n",
       "  'gender': 0,\n",
       "  'id': 555795,\n",
       "  'job': 'Animation',\n",
       "  'name': 'Mark Oftedal',\n",
       "  'profile_path': None},\n",
       " {'credit_id': '5892110b9251412dc800959d',\n",
       "  'department': 'Visual Effects',\n",
       "  'gender': 2,\n",
       "  'id': 7882,\n",
       "  'job': 'Animation',\n",
       "  'name': 'Jeff Pidgeon',\n",
       "  'profile_path': '/yLddkg5HcgbJg00cS13GVBnP0HY.jpg'},\n",
       " {'credit_id': '58921113c3a36863480044e4',\n",
       "  'department': 'Visual Effects',\n",
       "  'gender': 0,\n",
       "  'id': 8017,\n",
       "  'job': 'Animation',\n",
       "  'name': 'Jeff Pratt',\n",
       "  'profile_path': None},\n",
       " {'credit_id': '5892111c9251412dcb0097e9',\n",
       "  'department': 'Visual Effects',\n",
       "  'gender': 0,\n",
       "  'id': 1184140,\n",
       "  'job': 'Animation',\n",
       "  'name': 'Steve Rabatich',\n",
       "  'profile_path': None},\n",
       " {'credit_id': '58921123c3a36809700090f6',\n",
       "  'department': 'Visual Effects',\n",
       "  'gender': 0,\n",
       "  'id': 8049,\n",
       "  'job': 'Animation',\n",
       "  'name': 'Roger Rose',\n",
       "  'profile_path': None},\n",
       " {'credit_id': '5892112b9251412dcb0097fb',\n",
       "  'department': 'Visual Effects',\n",
       "  'gender': 0,\n",
       "  'id': 1509559,\n",
       "  'job': 'Animation',\n",
       "  'name': 'Steve Segal',\n",
       "  'profile_path': None},\n",
       " {'credit_id': '589211349251412dc80095c3',\n",
       "  'department': 'Visual Effects',\n",
       "  'gender': 0,\n",
       "  'id': 1748691,\n",
       "  'job': 'Animation',\n",
       "  'name': 'Doug Sheppeck',\n",
       "  'profile_path': None},\n",
       " {'credit_id': '5892113cc3a3680970009106',\n",
       "  'department': 'Visual Effects',\n",
       "  'gender': 0,\n",
       "  'id': 8050,\n",
       "  'job': 'Animation',\n",
       "  'name': 'Alan Sperling',\n",
       "  'profile_path': None},\n",
       " {'credit_id': '58921148c3a3686b0a004c99',\n",
       "  'department': 'Visual Effects',\n",
       "  'gender': 0,\n",
       "  'id': 8010,\n",
       "  'job': 'Animation',\n",
       "  'name': 'Doug Sweetland',\n",
       "  'profile_path': None},\n",
       " {'credit_id': '58921150c3a3680966009125',\n",
       "  'department': 'Visual Effects',\n",
       "  'gender': 0,\n",
       "  'id': 8044,\n",
       "  'job': 'Animation',\n",
       "  'name': 'David Tart',\n",
       "  'profile_path': None},\n",
       " {'credit_id': '589211629251412dc5009b00',\n",
       "  'department': 'Visual Effects',\n",
       "  'gender': 0,\n",
       "  'id': 1454034,\n",
       "  'job': 'Animation',\n",
       "  'name': 'Ken Willard',\n",
       "  'profile_path': None},\n",
       " {'credit_id': '589211c1c3a3686b0a004d28',\n",
       "  'department': 'Visual Effects',\n",
       "  'gender': 0,\n",
       "  'id': 7887,\n",
       "  'job': 'Visual Effects Supervisor',\n",
       "  'name': 'Thomas Porter',\n",
       "  'profile_path': None},\n",
       " {'credit_id': '589211d4c3a3680968008ed9',\n",
       "  'department': 'Visual Effects',\n",
       "  'gender': 0,\n",
       "  'id': 1406878,\n",
       "  'job': 'Visual Effects',\n",
       "  'name': 'Mark Thomas Henne',\n",
       "  'profile_path': None},\n",
       " {'credit_id': '589211f59251412dd4008e65',\n",
       "  'department': 'Visual Effects',\n",
       "  'gender': 0,\n",
       "  'id': 1748698,\n",
       "  'job': 'Visual Effects',\n",
       "  'name': 'Oren Jacob',\n",
       "  'profile_path': None},\n",
       " {'credit_id': '58921242c3a368096a00939b',\n",
       "  'department': 'Visual Effects',\n",
       "  'gender': 0,\n",
       "  'id': 1748699,\n",
       "  'job': 'Visual Effects',\n",
       "  'name': 'Darwyn Peachey',\n",
       "  'profile_path': None},\n",
       " {'credit_id': '5892124b9251412dc5009bd2',\n",
       "  'department': 'Visual Effects',\n",
       "  'gender': 0,\n",
       "  'id': 1748701,\n",
       "  'job': 'Visual Effects',\n",
       "  'name': 'Mitch Prater',\n",
       "  'profile_path': None},\n",
       " {'credit_id': '58921264c3a3686b0a004dbf',\n",
       "  'department': 'Visual Effects',\n",
       "  'gender': 0,\n",
       "  'id': 1748703,\n",
       "  'job': 'Visual Effects',\n",
       "  'name': 'Brian M. Rosen',\n",
       "  'profile_path': None},\n",
       " {'credit_id': '589212709251412dcd009676',\n",
       "  'department': 'Lighting',\n",
       "  'gender': 1,\n",
       "  'id': 12912,\n",
       "  'job': 'Lighting Supervisor',\n",
       "  'name': 'Sharon Calahan',\n",
       "  'profile_path': None},\n",
       " {'credit_id': '5892127fc3a3686b0a004de5',\n",
       "  'department': 'Lighting',\n",
       "  'gender': 0,\n",
       "  'id': 7899,\n",
       "  'job': 'Lighting Supervisor',\n",
       "  'name': 'Galyn Susman',\n",
       "  'profile_path': None},\n",
       " {'credit_id': '589212cdc3a3680970009268',\n",
       "  'department': 'Visual Effects',\n",
       "  'gender': 0,\n",
       "  'id': 12915,\n",
       "  'job': 'CG Painter',\n",
       "  'name': 'William Cone',\n",
       "  'profile_path': None},\n",
       " {'credit_id': '5892130f9251412dc8009791',\n",
       "  'department': 'Art',\n",
       "  'gender': 0,\n",
       "  'id': 1748705,\n",
       "  'job': 'Sculptor',\n",
       "  'name': 'Shelley Daniels Lekven',\n",
       "  'profile_path': None},\n",
       " {'credit_id': '5892131c9251412dd4008f4c',\n",
       "  'department': 'Visual Effects',\n",
       "  'gender': 2,\n",
       "  'id': 7889,\n",
       "  'job': 'Character Designer',\n",
       "  'name': 'Bob Pauley',\n",
       "  'profile_path': None},\n",
       " {'credit_id': '589213249251412dd100987b',\n",
       "  'department': 'Visual Effects',\n",
       "  'gender': 2,\n",
       "  'id': 7918,\n",
       "  'job': 'Character Designer',\n",
       "  'name': 'Bud Luckey',\n",
       "  'profile_path': '/pcCh7G19FKMNijmPQg1PMH1btic.jpg'},\n",
       " {'credit_id': '5892132b9251412dc80097b1',\n",
       "  'department': 'Visual Effects',\n",
       "  'gender': 2,\n",
       "  'id': 7,\n",
       "  'job': 'Character Designer',\n",
       "  'name': 'Andrew Stanton',\n",
       "  'profile_path': '/pvQWsu0qc8JFQhMVJkTHuexUAa1.jpg'},\n",
       " {'credit_id': '58921332c3a368634800467b',\n",
       "  'department': 'Visual Effects',\n",
       "  'gender': 0,\n",
       "  'id': 12915,\n",
       "  'job': 'Character Designer',\n",
       "  'name': 'William Cone',\n",
       "  'profile_path': None},\n",
       " {'credit_id': '5892135f9251412dd4008f90',\n",
       "  'department': 'Visual Effects',\n",
       "  'gender': 0,\n",
       "  'id': 1748706,\n",
       "  'job': 'Character Designer',\n",
       "  'name': 'Steve Johnson',\n",
       "  'profile_path': None},\n",
       " {'credit_id': '58921384c3a3680973008fd4',\n",
       "  'department': 'Visual Effects',\n",
       "  'gender': 0,\n",
       "  'id': 1176752,\n",
       "  'job': 'Character Designer',\n",
       "  'name': 'Dan Haskett',\n",
       "  'profile_path': None},\n",
       " {'credit_id': '5892138e9251412dc20099fc',\n",
       "  'department': 'Visual Effects',\n",
       "  'gender': 0,\n",
       "  'id': 1088034,\n",
       "  'job': 'Character Designer',\n",
       "  'name': 'Tom Holloway',\n",
       "  'profile_path': '/a0r0T2usTBpgMI5aZbRBDW1fTl8.jpg'},\n",
       " {'credit_id': '58921395c3a368097700942f',\n",
       "  'department': 'Visual Effects',\n",
       "  'gender': 0,\n",
       "  'id': 1447465,\n",
       "  'job': 'Character Designer',\n",
       "  'name': 'Jean Gillmore',\n",
       "  'profile_path': None},\n",
       " {'credit_id': '589213e2c3a3680973009026',\n",
       "  'department': 'Directing',\n",
       "  'gender': 0,\n",
       "  'id': 1748709,\n",
       "  'job': 'Layout',\n",
       "  'name': 'Desirée Mourad',\n",
       "  'profile_path': None},\n",
       " {'credit_id': '589214099251412dc5009d57',\n",
       "  'department': 'Art',\n",
       "  'gender': 0,\n",
       "  'id': 1748710,\n",
       "  'job': 'Set Dresser',\n",
       "  'name': \"Kelly O'Connell\",\n",
       "  'profile_path': None},\n",
       " {'credit_id': '58921411c3a3686b0a004f70',\n",
       "  'department': 'Art',\n",
       "  'gender': 0,\n",
       "  'id': 1443471,\n",
       "  'job': 'Set Dresser',\n",
       "  'name': 'Sonoko Konishi',\n",
       "  'profile_path': None},\n",
       " {'credit_id': '58921434c3a368096a00956e',\n",
       "  'department': 'Art',\n",
       "  'gender': 0,\n",
       "  'id': 1748711,\n",
       "  'job': 'Set Dresser',\n",
       "  'name': 'Ann M. Rockwell',\n",
       "  'profile_path': None},\n",
       " {'credit_id': '5892144ac3a36809680090de',\n",
       "  'department': 'Editing',\n",
       "  'gender': 0,\n",
       "  'id': 1748712,\n",
       "  'job': 'Editorial Manager',\n",
       "  'name': 'Julie M. McDonald',\n",
       "  'profile_path': None},\n",
       " {'credit_id': '58921479c3a368096800910f',\n",
       "  'department': 'Editing',\n",
       "  'gender': 0,\n",
       "  'id': 1589729,\n",
       "  'job': 'Assistant Editor',\n",
       "  'name': 'Robin Lee',\n",
       "  'profile_path': None},\n",
       " {'credit_id': '5892148b9251412dd10099cc',\n",
       "  'department': 'Editing',\n",
       "  'gender': 0,\n",
       "  'id': 1748716,\n",
       "  'job': 'Assistant Editor',\n",
       "  'name': 'Tom Freeman',\n",
       "  'profile_path': None},\n",
       " {'credit_id': '589214959251412dcb009b1f',\n",
       "  'department': 'Editing',\n",
       "  'gender': 0,\n",
       "  'id': 1748717,\n",
       "  'job': 'Assistant Editor',\n",
       "  'name': 'Ada Cochavi',\n",
       "  'profile_path': None},\n",
       " {'credit_id': '5892149ec3a3686348004798',\n",
       "  'department': 'Editing',\n",
       "  'gender': 0,\n",
       "  'id': 1336438,\n",
       "  'job': 'Assistant Editor',\n",
       "  'name': 'Dana Mulligan',\n",
       "  'profile_path': None},\n",
       " {'credit_id': '589214adc3a368096a0095db',\n",
       "  'department': 'Editing',\n",
       "  'gender': 0,\n",
       "  'id': 1748718,\n",
       "  'job': 'Editorial Coordinator',\n",
       "  'name': 'Deirdre Morrison',\n",
       "  'profile_path': None},\n",
       " {'credit_id': '589214c7c3a368097700952b',\n",
       "  'department': 'Production',\n",
       "  'gender': 0,\n",
       "  'id': 1748719,\n",
       "  'job': 'Production Coordinator',\n",
       "  'name': 'Lori Lombardo',\n",
       "  'profile_path': None},\n",
       " {'credit_id': '589214cec3a368096a009603',\n",
       "  'department': 'Production',\n",
       "  'gender': 0,\n",
       "  'id': 1748720,\n",
       "  'job': 'Production Coordinator',\n",
       "  'name': 'Ellen Devine',\n",
       "  'profile_path': None},\n",
       " {'credit_id': '589214e39251412dc8009904',\n",
       "  'department': 'Crew',\n",
       "  'gender': 0,\n",
       "  'id': 1468014,\n",
       "  'job': 'Unit Publicist',\n",
       "  'name': 'Lauren Beth Strogoff',\n",
       "  'profile_path': None},\n",
       " {'credit_id': '58921544c3a3686b0a00507d',\n",
       "  'department': 'Sound',\n",
       "  'gender': 2,\n",
       "  'id': 2216,\n",
       "  'job': 'Sound Re-Recording Mixer',\n",
       "  'name': 'Gary Rydstrom',\n",
       "  'profile_path': '/jZpr1nVfO7lldWI0YtmP1FGw7Rj.jpg'},\n",
       " {'credit_id': '5892154c9251412dd1009a56',\n",
       "  'department': 'Sound',\n",
       "  'gender': 0,\n",
       "  'id': 1425978,\n",
       "  'job': 'Sound Re-Recording Mixer',\n",
       "  'name': 'Gary Summers',\n",
       "  'profile_path': None},\n",
       " {'credit_id': '58921555c3a36809680091bd',\n",
       "  'department': 'Sound',\n",
       "  'gender': 2,\n",
       "  'id': 8276,\n",
       "  'job': 'Supervising Sound Editor',\n",
       "  'name': 'Tim Holland',\n",
       "  'profile_path': None},\n",
       " {'credit_id': '589215c39251412dcb009c12',\n",
       "  'department': 'Sound',\n",
       "  'gender': 0,\n",
       "  'id': 7069,\n",
       "  'job': 'Sound Effects Editor',\n",
       "  'name': 'Pat Jackson',\n",
       "  'profile_path': None},\n",
       " {'credit_id': '58921698c3a368096a009788',\n",
       "  'department': 'Crew',\n",
       "  'gender': 2,\n",
       "  'id': 15894,\n",
       "  'job': 'Sound Design Assistant',\n",
       "  'name': 'Tom Myers',\n",
       "  'profile_path': None},\n",
       " {'credit_id': '589216a89251412dc2009ca4',\n",
       "  'department': 'Sound',\n",
       "  'gender': 0,\n",
       "  'id': 1414177,\n",
       "  'job': 'Assistant Sound Editor',\n",
       "  'name': 'J.R. Grubbs',\n",
       "  'profile_path': None},\n",
       " {'credit_id': '589216c19251412dc2009cb9',\n",
       "  'department': 'Sound',\n",
       "  'gender': 1,\n",
       "  'id': 1748724,\n",
       "  'job': 'Assistant Sound Editor',\n",
       "  'name': 'Susan Sanford',\n",
       "  'profile_path': None},\n",
       " {'credit_id': '589216ccc3a3680973009274',\n",
       "  'department': 'Sound',\n",
       "  'gender': 0,\n",
       "  'id': 1748725,\n",
       "  'job': 'Assistant Sound Editor',\n",
       "  'name': 'Susan Popovic',\n",
       "  'profile_path': None},\n",
       " {'credit_id': '589216d79251412dc8009aa0',\n",
       "  'department': 'Sound',\n",
       "  'gender': 0,\n",
       "  'id': 8067,\n",
       "  'job': 'Assistant Sound Editor',\n",
       "  'name': 'Dan Engstrom',\n",
       "  'profile_path': None},\n",
       " {'credit_id': '589216e49251412dcd009a4f',\n",
       "  'department': 'Production',\n",
       "  'gender': 1,\n",
       "  'id': 7902,\n",
       "  'job': 'Casting Consultant',\n",
       "  'name': 'Ruth Lambert',\n",
       "  'profile_path': None},\n",
       " {'credit_id': '589216f39251412dc2009cf3',\n",
       "  'department': 'Production',\n",
       "  'gender': 0,\n",
       "  'id': 84493,\n",
       "  'job': 'ADR Voice Casting',\n",
       "  'name': 'Mickie McGowan',\n",
       "  'profile_path': '/k7TjJBfINsg8vLQxJwos6XObAD6.jpg'}]"
      ]
     },
     "execution_count": 20,
     "metadata": {},
     "output_type": "execute_result"
    }
   ],
   "source": [
    "df.crew[0]"
   ]
  },
  {
   "cell_type": "code",
   "execution_count": null,
   "metadata": {},
   "outputs": [],
   "source": []
  },
  {
   "cell_type": "markdown",
   "metadata": {},
   "source": [
    "9. __Determine__ the __crew size__ for all movies (size of the crew) and add the additional column \"crew_size\"."
   ]
  },
  {
   "cell_type": "code",
   "execution_count": 21,
   "metadata": {},
   "outputs": [],
   "source": [
    "df['crew_size'] = df.crew.apply(lambda x: len(x))"
   ]
  },
  {
   "cell_type": "code",
   "execution_count": 23,
   "metadata": {},
   "outputs": [
    {
     "data": {
      "text/plain": [
       "2     6197\n",
       "3     4951\n",
       "1     4866\n",
       "4     3064\n",
       "5     2240\n",
       "7     1968\n",
       "10    1928\n",
       "6     1867\n",
       "8     1864\n",
       "9     1686\n",
       "Name: crew_size, dtype: int64"
      ]
     },
     "execution_count": 23,
     "metadata": {},
     "output_type": "execute_result"
    }
   ],
   "source": [
    "df.crew_size.value_counts(dropna = False).head(10)"
   ]
  },
  {
   "cell_type": "markdown",
   "metadata": {},
   "source": [
    "10. __Extract__ the __director name__ from the column \"crew\" and create the new column \"director\". <br> For example: The value in the first row (Toy Story) should be 'John Lasseter'."
   ]
  },
  {
   "cell_type": "code",
   "execution_count": 24,
   "metadata": {},
   "outputs": [],
   "source": [
    "def director(x):\n",
    "    for i in x:\n",
    "        if i['job']== 'Director':\n",
    "            return i['name']\n",
    "    return np.nan"
   ]
  },
  {
   "cell_type": "code",
   "execution_count": 25,
   "metadata": {},
   "outputs": [],
   "source": [
    "df['director'] = df.crew.apply(director)"
   ]
  },
  {
   "cell_type": "code",
   "execution_count": 26,
   "metadata": {},
   "outputs": [
    {
     "data": {
      "text/plain": [
       "John Ford           66\n",
       "Michael Curtiz      65\n",
       "Werner Herzog       54\n",
       "Alfred Hitchcock    53\n",
       "Georges Méliès      49\n",
       "Name: director, dtype: int64"
      ]
     },
     "execution_count": 26,
     "metadata": {},
     "output_type": "execute_result"
    }
   ],
   "source": [
    "df.director.value_counts().head(5)"
   ]
  },
  {
   "cell_type": "code",
   "execution_count": null,
   "metadata": {},
   "outputs": [],
   "source": []
  },
  {
   "cell_type": "markdown",
   "metadata": {},
   "source": [
    "## Final Steps"
   ]
  },
  {
   "cell_type": "markdown",
   "metadata": {},
   "source": [
    "11. __Drop__ the column \"crew\" and __save__ the dataset in a csv-file."
   ]
  },
  {
   "cell_type": "code",
   "execution_count": 27,
   "metadata": {},
   "outputs": [],
   "source": [
    "df.drop(columns = ['crew'], inplace =True)"
   ]
  },
  {
   "cell_type": "markdown",
   "metadata": {},
   "source": [
    "<h3> Checking if there is crew "
   ]
  },
  {
   "cell_type": "code",
   "execution_count": 28,
   "metadata": {},
   "outputs": [
    {
     "name": "stdout",
     "output_type": "stream",
     "text": [
      "<class 'pandas.core.frame.DataFrame'>\n",
      "Int64Index: 44691 entries, 0 to 44690\n",
      "Data columns (total 22 columns):\n",
      "id                       44691 non-null int64\n",
      "title                    44691 non-null object\n",
      "tagline                  20284 non-null object\n",
      "release_date             44657 non-null object\n",
      "genres                   42586 non-null object\n",
      "belongs_to_collection    4463 non-null object\n",
      "original_language        44681 non-null object\n",
      "budget_musd              8854 non-null float64\n",
      "revenue_musd             7385 non-null float64\n",
      "production_companies     33356 non-null object\n",
      "production_countries     38835 non-null object\n",
      "vote_count               44691 non-null float64\n",
      "vote_average             42077 non-null float64\n",
      "popularity               44691 non-null float64\n",
      "runtime                  43179 non-null float64\n",
      "overview                 43740 non-null object\n",
      "spoken_languages         41094 non-null object\n",
      "poster_path              44467 non-null object\n",
      "cast                     42502 non-null object\n",
      "cast_size                44691 non-null int64\n",
      "crew_size                44691 non-null int64\n",
      "director                 43960 non-null object\n",
      "dtypes: float64(6), int64(3), object(13)\n",
      "memory usage: 9.1+ MB\n"
     ]
    }
   ],
   "source": [
    "df.info()"
   ]
  },
  {
   "cell_type": "markdown",
   "metadata": {},
   "source": [
    "# +++++++++ See some Hints below +++++++++++++"
   ]
  },
  {
   "cell_type": "code",
   "execution_count": null,
   "metadata": {},
   "outputs": [],
   "source": []
  },
  {
   "cell_type": "code",
   "execution_count": null,
   "metadata": {},
   "outputs": [],
   "source": []
  },
  {
   "cell_type": "code",
   "execution_count": null,
   "metadata": {},
   "outputs": [],
   "source": []
  },
  {
   "cell_type": "code",
   "execution_count": null,
   "metadata": {},
   "outputs": [],
   "source": []
  },
  {
   "cell_type": "markdown",
   "metadata": {},
   "source": [
    "# ++++++++++++++++ Hints++++++++++++++++++++"
   ]
  },
  {
   "cell_type": "code",
   "execution_count": null,
   "metadata": {},
   "outputs": [],
   "source": []
  },
  {
   "cell_type": "markdown",
   "metadata": {},
   "source": [
    "__Hints for 2.__<br>\n",
    "There cannot be two or more movies with the same movie id."
   ]
  },
  {
   "cell_type": "code",
   "execution_count": null,
   "metadata": {},
   "outputs": [],
   "source": []
  },
  {
   "cell_type": "markdown",
   "metadata": {},
   "source": [
    "__Hints for 3.__<br>\n",
    "You can use a left join with movies_clean as left dataset and credits as right dataset."
   ]
  },
  {
   "cell_type": "code",
   "execution_count": null,
   "metadata": {},
   "outputs": [],
   "source": []
  },
  {
   "cell_type": "markdown",
   "metadata": {},
   "source": [
    "__Hints for 4.__<br>\n",
    "This is very similar to Question 3 in Project 3."
   ]
  },
  {
   "cell_type": "code",
   "execution_count": null,
   "metadata": {},
   "outputs": [],
   "source": []
  },
  {
   "cell_type": "markdown",
   "metadata": {},
   "source": [
    "__Hints for 5.__<br> \n",
    "apply an appropriate lambda function on all column elements."
   ]
  },
  {
   "cell_type": "code",
   "execution_count": null,
   "metadata": {},
   "outputs": [],
   "source": []
  },
  {
   "cell_type": "markdown",
   "metadata": {},
   "source": [
    "__Hints for 6.__<br>\n",
    "This is very similar to Questions 4-8 in Project 3."
   ]
  },
  {
   "cell_type": "code",
   "execution_count": null,
   "metadata": {},
   "outputs": [],
   "source": []
  },
  {
   "cell_type": "markdown",
   "metadata": {},
   "source": [
    "__Hints for 7.__<br>\n",
    "This is very similar to Question 9 in Project 3."
   ]
  },
  {
   "cell_type": "code",
   "execution_count": null,
   "metadata": {},
   "outputs": [],
   "source": []
  },
  {
   "cell_type": "markdown",
   "metadata": {},
   "source": [
    "__Hints for 10.__<br> \n",
    "apply an appropriate user-defined function (a bit more complex) on all column elements."
   ]
  },
  {
   "cell_type": "code",
   "execution_count": null,
   "metadata": {},
   "outputs": [],
   "source": []
  }
 ],
 "metadata": {
  "kernelspec": {
   "display_name": "Python 3",
   "language": "python",
   "name": "python3"
  }
 },
 "nbformat": 4,
 "nbformat_minor": 2
}
